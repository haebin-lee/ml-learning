{
 "cells": [
  {
   "cell_type": "markdown",
   "id": "cfbc5898-4f6d-4ca3-968e-928bd42edf23",
   "metadata": {},
   "source": [
    "## Linear Regression"
   ]
  },
  {
   "cell_type": "code",
   "execution_count": 1,
   "id": "b0c519e3",
   "metadata": {},
   "outputs": [],
   "source": [
    "import pandas as pd; "
   ]
  },
  {
   "cell_type": "code",
   "execution_count": 2,
   "id": "c20b4dae",
   "metadata": {},
   "outputs": [
    {
     "data": {
      "text/html": [
       "<div>\n",
       "<style scoped>\n",
       "    .dataframe tbody tr th:only-of-type {\n",
       "        vertical-align: middle;\n",
       "    }\n",
       "\n",
       "    .dataframe tbody tr th {\n",
       "        vertical-align: top;\n",
       "    }\n",
       "\n",
       "    .dataframe thead th {\n",
       "        text-align: right;\n",
       "    }\n",
       "</style>\n",
       "<table border=\"1\" class=\"dataframe\">\n",
       "  <thead>\n",
       "    <tr style=\"text-align: right;\">\n",
       "      <th></th>\n",
       "      <th>age</th>\n",
       "      <th>sex</th>\n",
       "      <th>bmi</th>\n",
       "      <th>children</th>\n",
       "      <th>smoker</th>\n",
       "      <th>charges</th>\n",
       "    </tr>\n",
       "  </thead>\n",
       "  <tbody>\n",
       "    <tr>\n",
       "      <th>0</th>\n",
       "      <td>19</td>\n",
       "      <td>0</td>\n",
       "      <td>27.900</td>\n",
       "      <td>0</td>\n",
       "      <td>1</td>\n",
       "      <td>16884.92400</td>\n",
       "    </tr>\n",
       "    <tr>\n",
       "      <th>1</th>\n",
       "      <td>18</td>\n",
       "      <td>1</td>\n",
       "      <td>33.770</td>\n",
       "      <td>1</td>\n",
       "      <td>0</td>\n",
       "      <td>1725.55230</td>\n",
       "    </tr>\n",
       "    <tr>\n",
       "      <th>2</th>\n",
       "      <td>28</td>\n",
       "      <td>1</td>\n",
       "      <td>33.000</td>\n",
       "      <td>3</td>\n",
       "      <td>0</td>\n",
       "      <td>4449.46200</td>\n",
       "    </tr>\n",
       "    <tr>\n",
       "      <th>3</th>\n",
       "      <td>33</td>\n",
       "      <td>1</td>\n",
       "      <td>22.705</td>\n",
       "      <td>0</td>\n",
       "      <td>0</td>\n",
       "      <td>21984.47061</td>\n",
       "    </tr>\n",
       "    <tr>\n",
       "      <th>4</th>\n",
       "      <td>32</td>\n",
       "      <td>1</td>\n",
       "      <td>28.880</td>\n",
       "      <td>0</td>\n",
       "      <td>0</td>\n",
       "      <td>3866.85520</td>\n",
       "    </tr>\n",
       "    <tr>\n",
       "      <th>...</th>\n",
       "      <td>...</td>\n",
       "      <td>...</td>\n",
       "      <td>...</td>\n",
       "      <td>...</td>\n",
       "      <td>...</td>\n",
       "      <td>...</td>\n",
       "    </tr>\n",
       "    <tr>\n",
       "      <th>1333</th>\n",
       "      <td>50</td>\n",
       "      <td>1</td>\n",
       "      <td>30.970</td>\n",
       "      <td>3</td>\n",
       "      <td>0</td>\n",
       "      <td>10600.54830</td>\n",
       "    </tr>\n",
       "    <tr>\n",
       "      <th>1334</th>\n",
       "      <td>18</td>\n",
       "      <td>0</td>\n",
       "      <td>31.920</td>\n",
       "      <td>0</td>\n",
       "      <td>0</td>\n",
       "      <td>2205.98080</td>\n",
       "    </tr>\n",
       "    <tr>\n",
       "      <th>1335</th>\n",
       "      <td>18</td>\n",
       "      <td>0</td>\n",
       "      <td>36.850</td>\n",
       "      <td>0</td>\n",
       "      <td>0</td>\n",
       "      <td>1629.83350</td>\n",
       "    </tr>\n",
       "    <tr>\n",
       "      <th>1336</th>\n",
       "      <td>21</td>\n",
       "      <td>0</td>\n",
       "      <td>25.800</td>\n",
       "      <td>0</td>\n",
       "      <td>0</td>\n",
       "      <td>2007.94500</td>\n",
       "    </tr>\n",
       "    <tr>\n",
       "      <th>1337</th>\n",
       "      <td>61</td>\n",
       "      <td>0</td>\n",
       "      <td>29.070</td>\n",
       "      <td>0</td>\n",
       "      <td>1</td>\n",
       "      <td>29141.36030</td>\n",
       "    </tr>\n",
       "  </tbody>\n",
       "</table>\n",
       "<p>1338 rows × 6 columns</p>\n",
       "</div>"
      ],
      "text/plain": [
       "      age  sex     bmi  children  smoker      charges\n",
       "0      19    0  27.900         0       1  16884.92400\n",
       "1      18    1  33.770         1       0   1725.55230\n",
       "2      28    1  33.000         3       0   4449.46200\n",
       "3      33    1  22.705         0       0  21984.47061\n",
       "4      32    1  28.880         0       0   3866.85520\n",
       "...   ...  ...     ...       ...     ...          ...\n",
       "1333   50    1  30.970         3       0  10600.54830\n",
       "1334   18    0  31.920         0       0   2205.98080\n",
       "1335   18    0  36.850         0       0   1629.83350\n",
       "1336   21    0  25.800         0       0   2007.94500\n",
       "1337   61    0  29.070         0       1  29141.36030\n",
       "\n",
       "[1338 rows x 6 columns]"
      ]
     },
     "execution_count": 2,
     "metadata": {},
     "output_type": "execute_result"
    }
   ],
   "source": [
    "file_url = 'https://media.githubusercontent.com/media/musthave-ML10/data_source/main/insurance.csv'\n",
    "\n",
    "data = pd.read_csv(file_url)\n",
    "data"
   ]
  },
  {
   "cell_type": "code",
   "execution_count": 3,
   "id": "08248d37",
   "metadata": {},
   "outputs": [
    {
     "data": {
      "text/html": [
       "<div>\n",
       "<style scoped>\n",
       "    .dataframe tbody tr th:only-of-type {\n",
       "        vertical-align: middle;\n",
       "    }\n",
       "\n",
       "    .dataframe tbody tr th {\n",
       "        vertical-align: top;\n",
       "    }\n",
       "\n",
       "    .dataframe thead th {\n",
       "        text-align: right;\n",
       "    }\n",
       "</style>\n",
       "<table border=\"1\" class=\"dataframe\">\n",
       "  <thead>\n",
       "    <tr style=\"text-align: right;\">\n",
       "      <th></th>\n",
       "      <th>age</th>\n",
       "      <th>sex</th>\n",
       "      <th>bmi</th>\n",
       "      <th>children</th>\n",
       "      <th>smoker</th>\n",
       "      <th>charges</th>\n",
       "    </tr>\n",
       "  </thead>\n",
       "  <tbody>\n",
       "    <tr>\n",
       "      <th>0</th>\n",
       "      <td>19</td>\n",
       "      <td>0</td>\n",
       "      <td>27.900</td>\n",
       "      <td>0</td>\n",
       "      <td>1</td>\n",
       "      <td>16884.92400</td>\n",
       "    </tr>\n",
       "    <tr>\n",
       "      <th>1</th>\n",
       "      <td>18</td>\n",
       "      <td>1</td>\n",
       "      <td>33.770</td>\n",
       "      <td>1</td>\n",
       "      <td>0</td>\n",
       "      <td>1725.55230</td>\n",
       "    </tr>\n",
       "    <tr>\n",
       "      <th>2</th>\n",
       "      <td>28</td>\n",
       "      <td>1</td>\n",
       "      <td>33.000</td>\n",
       "      <td>3</td>\n",
       "      <td>0</td>\n",
       "      <td>4449.46200</td>\n",
       "    </tr>\n",
       "    <tr>\n",
       "      <th>3</th>\n",
       "      <td>33</td>\n",
       "      <td>1</td>\n",
       "      <td>22.705</td>\n",
       "      <td>0</td>\n",
       "      <td>0</td>\n",
       "      <td>21984.47061</td>\n",
       "    </tr>\n",
       "    <tr>\n",
       "      <th>4</th>\n",
       "      <td>32</td>\n",
       "      <td>1</td>\n",
       "      <td>28.880</td>\n",
       "      <td>0</td>\n",
       "      <td>0</td>\n",
       "      <td>3866.85520</td>\n",
       "    </tr>\n",
       "  </tbody>\n",
       "</table>\n",
       "</div>"
      ],
      "text/plain": [
       "   age  sex     bmi  children  smoker      charges\n",
       "0   19    0  27.900         0       1  16884.92400\n",
       "1   18    1  33.770         1       0   1725.55230\n",
       "2   28    1  33.000         3       0   4449.46200\n",
       "3   33    1  22.705         0       0  21984.47061\n",
       "4   32    1  28.880         0       0   3866.85520"
      ]
     },
     "execution_count": 3,
     "metadata": {},
     "output_type": "execute_result"
    }
   ],
   "source": [
    "data.head()"
   ]
  },
  {
   "cell_type": "code",
   "execution_count": 4,
   "id": "e5e72ce5",
   "metadata": {},
   "outputs": [
    {
     "name": "stdout",
     "output_type": "stream",
     "text": [
      "<class 'pandas.core.frame.DataFrame'>\n",
      "RangeIndex: 1338 entries, 0 to 1337\n",
      "Data columns (total 6 columns):\n",
      " #   Column    Non-Null Count  Dtype  \n",
      "---  ------    --------------  -----  \n",
      " 0   age       1338 non-null   int64  \n",
      " 1   sex       1338 non-null   int64  \n",
      " 2   bmi       1338 non-null   float64\n",
      " 3   children  1338 non-null   int64  \n",
      " 4   smoker    1338 non-null   int64  \n",
      " 5   charges   1338 non-null   float64\n",
      "dtypes: float64(2), int64(4)\n",
      "memory usage: 62.8 KB\n"
     ]
    }
   ],
   "source": [
    "data.info()"
   ]
  },
  {
   "cell_type": "code",
   "execution_count": 5,
   "id": "c626f16e",
   "metadata": {},
   "outputs": [
    {
     "data": {
      "text/html": [
       "<div>\n",
       "<style scoped>\n",
       "    .dataframe tbody tr th:only-of-type {\n",
       "        vertical-align: middle;\n",
       "    }\n",
       "\n",
       "    .dataframe tbody tr th {\n",
       "        vertical-align: top;\n",
       "    }\n",
       "\n",
       "    .dataframe thead th {\n",
       "        text-align: right;\n",
       "    }\n",
       "</style>\n",
       "<table border=\"1\" class=\"dataframe\">\n",
       "  <thead>\n",
       "    <tr style=\"text-align: right;\">\n",
       "      <th></th>\n",
       "      <th>age</th>\n",
       "      <th>sex</th>\n",
       "      <th>bmi</th>\n",
       "      <th>children</th>\n",
       "      <th>smoker</th>\n",
       "      <th>charges</th>\n",
       "    </tr>\n",
       "  </thead>\n",
       "  <tbody>\n",
       "    <tr>\n",
       "      <th>count</th>\n",
       "      <td>1338.00</td>\n",
       "      <td>1338.00</td>\n",
       "      <td>1338.00</td>\n",
       "      <td>1338.00</td>\n",
       "      <td>1338.0</td>\n",
       "      <td>1338.00</td>\n",
       "    </tr>\n",
       "    <tr>\n",
       "      <th>mean</th>\n",
       "      <td>39.21</td>\n",
       "      <td>0.51</td>\n",
       "      <td>30.66</td>\n",
       "      <td>1.09</td>\n",
       "      <td>0.2</td>\n",
       "      <td>13270.42</td>\n",
       "    </tr>\n",
       "    <tr>\n",
       "      <th>std</th>\n",
       "      <td>14.05</td>\n",
       "      <td>0.50</td>\n",
       "      <td>6.10</td>\n",
       "      <td>1.21</td>\n",
       "      <td>0.4</td>\n",
       "      <td>12110.01</td>\n",
       "    </tr>\n",
       "    <tr>\n",
       "      <th>min</th>\n",
       "      <td>18.00</td>\n",
       "      <td>0.00</td>\n",
       "      <td>15.96</td>\n",
       "      <td>0.00</td>\n",
       "      <td>0.0</td>\n",
       "      <td>1121.87</td>\n",
       "    </tr>\n",
       "    <tr>\n",
       "      <th>25%</th>\n",
       "      <td>27.00</td>\n",
       "      <td>0.00</td>\n",
       "      <td>26.30</td>\n",
       "      <td>0.00</td>\n",
       "      <td>0.0</td>\n",
       "      <td>4740.29</td>\n",
       "    </tr>\n",
       "    <tr>\n",
       "      <th>50%</th>\n",
       "      <td>39.00</td>\n",
       "      <td>1.00</td>\n",
       "      <td>30.40</td>\n",
       "      <td>1.00</td>\n",
       "      <td>0.0</td>\n",
       "      <td>9382.03</td>\n",
       "    </tr>\n",
       "    <tr>\n",
       "      <th>75%</th>\n",
       "      <td>51.00</td>\n",
       "      <td>1.00</td>\n",
       "      <td>34.69</td>\n",
       "      <td>2.00</td>\n",
       "      <td>0.0</td>\n",
       "      <td>16639.91</td>\n",
       "    </tr>\n",
       "    <tr>\n",
       "      <th>max</th>\n",
       "      <td>64.00</td>\n",
       "      <td>1.00</td>\n",
       "      <td>53.13</td>\n",
       "      <td>5.00</td>\n",
       "      <td>1.0</td>\n",
       "      <td>63770.43</td>\n",
       "    </tr>\n",
       "  </tbody>\n",
       "</table>\n",
       "</div>"
      ],
      "text/plain": [
       "           age      sex      bmi  children  smoker   charges\n",
       "count  1338.00  1338.00  1338.00   1338.00  1338.0   1338.00\n",
       "mean     39.21     0.51    30.66      1.09     0.2  13270.42\n",
       "std      14.05     0.50     6.10      1.21     0.4  12110.01\n",
       "min      18.00     0.00    15.96      0.00     0.0   1121.87\n",
       "25%      27.00     0.00    26.30      0.00     0.0   4740.29\n",
       "50%      39.00     1.00    30.40      1.00     0.0   9382.03\n",
       "75%      51.00     1.00    34.69      2.00     0.0  16639.91\n",
       "max      64.00     1.00    53.13      5.00     1.0  63770.43"
      ]
     },
     "execution_count": 5,
     "metadata": {},
     "output_type": "execute_result"
    }
   ],
   "source": [
    "round(data.describe(), 2)"
   ]
  },
  {
   "cell_type": "code",
   "execution_count": 6,
   "id": "89bbdd14",
   "metadata": {},
   "outputs": [
    {
     "data": {
      "text/plain": [
       "array([[<Axes: title={'center': 'age'}>, <Axes: title={'center': 'sex'}>],\n",
       "       [<Axes: title={'center': 'bmi'}>,\n",
       "        <Axes: title={'center': 'children'}>],\n",
       "       [<Axes: title={'center': 'smoker'}>,\n",
       "        <Axes: title={'center': 'charges'}>]], dtype=object)"
      ]
     },
     "execution_count": 6,
     "metadata": {},
     "output_type": "execute_result"
    },
    {
     "data": {
      "image/png": "[encoded data removed]",
      "text/plain": [
       "<Figure size 800x600 with 6 Axes>"
      ]
     },
     "metadata": {},
     "output_type": "display_data"
    }
   ],
   "source": [
    "data.hist(figsize=(8, 6))"
   ]
  },
  {
   "cell_type": "code",
   "execution_count": 7,
   "id": "e7ac7bd1",
   "metadata": {},
   "outputs": [],
   "source": [
    "# 종속 변수와 독립변수의 분리 \n",
    "# Train set vs Test set \n",
    "\n",
    "# X_train, y_train \n",
    "# X_test, y_test"
   ]
  },
  {
   "cell_type": "code",
   "execution_count": 8,
   "id": "924ce050",
   "metadata": {},
   "outputs": [],
   "source": [
    "X = data[['age', 'sex', 'bmi', 'children', 'smoker']] # 독립변수 \n",
    "y = data['charges'] # 종속변수"
   ]
  },
  {
   "cell_type": "code",
   "execution_count": 9,
   "id": "47836352",
   "metadata": {},
   "outputs": [],
   "source": [
    "from sklearn.model_selection import train_test_split"
   ]
  },
  {
   "cell_type": "code",
   "execution_count": 10,
   "id": "c31662c7",
   "metadata": {},
   "outputs": [],
   "source": [
    "# 8:2 비율로 random_state=랜덤 샘플링 \n",
    "X_train, X_test, y_train, y_test = train_test_split(X, y, test_size = 0.2, random_state = 100)"
   ]
  },
  {
   "cell_type": "code",
   "execution_count": 11,
   "id": "4ddd06d8",
   "metadata": {},
   "outputs": [],
   "source": [
    "from sklearn.linear_model import LinearRegression "
   ]
  },
  {
   "cell_type": "code",
   "execution_count": 12,
   "id": "e3408876",
   "metadata": {},
   "outputs": [],
   "source": [
    "model = LinearRegression()"
   ]
  },
  {
   "cell_type": "code",
   "execution_count": 13,
   "id": "45da0ddb",
   "metadata": {},
   "outputs": [
    {
     "data": {
      "text/html": [
       "<style>#sk-container-id-1 {color: black;background-color: white;}#sk-container-id-1 pre{padding: 0;}#sk-container-id-1 div.sk-toggleable {background-color: white;}#sk-container-id-1 label.sk-toggleable__label {cursor: pointer;display: block;width: 100%;margin-bottom: 0;padding: 0.3em;box-sizing: border-box;text-align: center;}#sk-container-id-1 label.sk-toggleable__label-arrow:before {content: \"▸\";float: left;margin-right: 0.25em;color: #696969;}#sk-container-id-1 label.sk-toggleable__label-arrow:hover:before {color: black;}#sk-container-id-1 div.sk-estimator:hover label.sk-toggleable__label-arrow:before {color: black;}#sk-container-id-1 div.sk-toggleable__content {max-height: 0;max-width: 0;overflow: hidden;text-align: left;background-color: #f0f8ff;}#sk-container-id-1 div.sk-toggleable__content pre {margin: 0.2em;color: black;border-radius: 0.25em;background-color: #f0f8ff;}#sk-container-id-1 input.sk-toggleable__control:checked~div.sk-toggleable__content {max-height: 200px;max-width: 100%;overflow: auto;}#sk-container-id-1 input.sk-toggleable__control:checked~label.sk-toggleable__label-arrow:before {content: \"▾\";}#sk-container-id-1 div.sk-estimator input.sk-toggleable__control:checked~label.sk-toggleable__label {background-color: #d4ebff;}#sk-container-id-1 div.sk-label input.sk-toggleable__control:checked~label.sk-toggleable__label {background-color: #d4ebff;}#sk-container-id-1 input.sk-hidden--visually {border: 0;clip: rect(1px 1px 1px 1px);clip: rect(1px, 1px, 1px, 1px);height: 1px;margin: -1px;overflow: hidden;padding: 0;position: absolute;width: 1px;}#sk-container-id-1 div.sk-estimator {font-family: monospace;background-color: #f0f8ff;border: 1px dotted black;border-radius: 0.25em;box-sizing: border-box;margin-bottom: 0.5em;}#sk-container-id-1 div.sk-estimator:hover {background-color: #d4ebff;}#sk-container-id-1 div.sk-parallel-item::after {content: \"\";width: 100%;border-bottom: 1px solid gray;flex-grow: 1;}#sk-container-id-1 div.sk-label:hover label.sk-toggleable__label {background-color: #d4ebff;}#sk-container-id-1 div.sk-serial::before {content: \"\";position: absolute;border-left: 1px solid gray;box-sizing: border-box;top: 0;bottom: 0;left: 50%;z-index: 0;}#sk-container-id-1 div.sk-serial {display: flex;flex-direction: column;align-items: center;background-color: white;padding-right: 0.2em;padding-left: 0.2em;position: relative;}#sk-container-id-1 div.sk-item {position: relative;z-index: 1;}#sk-container-id-1 div.sk-parallel {display: flex;align-items: stretch;justify-content: center;background-color: white;position: relative;}#sk-container-id-1 div.sk-item::before, #sk-container-id-1 div.sk-parallel-item::before {content: \"\";position: absolute;border-left: 1px solid gray;box-sizing: border-box;top: 0;bottom: 0;left: 50%;z-index: -1;}#sk-container-id-1 div.sk-parallel-item {display: flex;flex-direction: column;z-index: 1;position: relative;background-color: white;}#sk-container-id-1 div.sk-parallel-item:first-child::after {align-self: flex-end;width: 50%;}#sk-container-id-1 div.sk-parallel-item:last-child::after {align-self: flex-start;width: 50%;}#sk-container-id-1 div.sk-parallel-item:only-child::after {width: 0;}#sk-container-id-1 div.sk-dashed-wrapped {border: 1px dashed gray;margin: 0 0.4em 0.5em 0.4em;box-sizing: border-box;padding-bottom: 0.4em;background-color: white;}#sk-container-id-1 div.sk-label label {font-family: monospace;font-weight: bold;display: inline-block;line-height: 1.2em;}#sk-container-id-1 div.sk-label-container {text-align: center;}#sk-container-id-1 div.sk-container {/* jupyter's `normalize.less` sets `[hidden] { display: none; }` but bootstrap.min.css set `[hidden] { display: none !important; }` so we also need the `!important` here to be able to override the default hidden behavior on the sphinx rendered scikit-learn.org. See: https://github.com/scikit-learn/scikit-learn/issues/21755 */display: inline-block !important;position: relative;}#sk-container-id-1 div.sk-text-repr-fallback {display: none;}</style><div id=\"sk-container-id-1\" class=\"sk-top-container\"><div class=\"sk-text-repr-fallback\"><pre>LinearRegression()</pre><b>In a Jupyter environment, please rerun this cell to show the HTML representation or trust the notebook. <br />On GitHub, the HTML representation is unable to render, please try loading this page with nbviewer.org.</b></div><div class=\"sk-container\" hidden><div class=\"sk-item\"><div class=\"sk-estimator sk-toggleable\"><input class=\"sk-toggleable__control sk-hidden--visually\" id=\"sk-estimator-id-1\" type=\"checkbox\" checked><label for=\"sk-estimator-id-1\" class=\"sk-toggleable__label sk-toggleable__label-arrow\">LinearRegression</label><div class=\"sk-toggleable__content\"><pre>LinearRegression()</pre></div></div></div></div></div>"
      ],
      "text/plain": [
       "LinearRegression()"
      ]
     },
     "execution_count": 13,
     "metadata": {},
     "output_type": "execute_result"
    }
   ],
   "source": [
    "model.fit(X_train, y_train) # 학습"
   ]
  },
  {
   "cell_type": "code",
   "execution_count": 14,
   "id": "7e9551ab",
   "metadata": {},
   "outputs": [],
   "source": [
    "# 오버피팅: 모델이 학습셋에 지나치게 잘 맞도록 학습되어서 새로운 데이터에 대한 예측력이 떨어지는 현상 \n",
    "# 과적합, 과학습 "
   ]
  },
  {
   "cell_type": "code",
   "execution_count": 15,
   "id": "6644cecb",
   "metadata": {},
   "outputs": [
    {
     "data": {
      "text/plain": [
       "array([ 4765.24946593,  4957.73086482,  8298.98815254,  3078.81186784,\n",
       "       24165.95654247, 36827.72848649, 14683.34729348,  2599.3384217 ,\n",
       "       29378.62194348, 16011.75090087, 15493.17858732,  5101.23688482,\n",
       "       11011.10641383,  4161.31766196,  9810.62254709, 31856.8853975 ,\n",
       "       12016.55190749, 13235.61067675,  7251.8789603 , 18394.80961708,\n",
       "       14393.20060321,  3253.85100146,  6715.71478454, 31290.24757633,\n",
       "       13776.33709853, 31904.24021054,  6397.17630407, 39339.48397832,\n",
       "       31565.9666249 , 13742.23078678, 18448.10494977,  2282.95976263,\n",
       "       38922.93999878, 26116.16609375,  8866.70869349, 12036.24255782,\n",
       "        8406.17827743, 32351.5635203 ,  3959.06572303, 38354.72996424,\n",
       "        8219.4129384 , 12308.73069101,  5604.28772112,  8468.4404493 ,\n",
       "         651.06780185,  5503.69704365,  5673.30373447,  3843.67247433,\n",
       "        2098.72488739, 11186.31121281, 17460.67125615,  7916.72813038,\n",
       "        5042.69712676,  8273.18990771,  7541.05592985, 14372.15862948,\n",
       "       13684.35832346, 30857.98106681,  8322.72794924, 12822.32242917,\n",
       "        3493.85338875,  3293.04577951,  5904.8209192 , 10395.02646177,\n",
       "       14492.15426523,  2879.51182539,  1018.49858688,  8513.84796394,\n",
       "       11695.98148928, 37023.8557425 , 10073.01155835,  4216.2233442 ,\n",
       "       11224.74930314, 27632.16353094, 11106.81737918,   781.46808883,\n",
       "       11472.34411013, 33701.44726804, 13789.32692817,  9393.14046538,\n",
       "        3157.92409879,  9004.99820802,  7517.97365143,  4547.87097203,\n",
       "       30637.21746245, 37434.62381273, 12926.5107401 , 33173.99927228,\n",
       "       28024.89795906,  9355.79997943, 26845.17037399,  9418.4208569 ,\n",
       "        7297.93221191,  1682.94957585, 30847.37862168,  8334.90260773,\n",
       "       12915.95495363, 10139.774744  , 30010.69146415,  2622.47557025,\n",
       "        5431.04695449,  4959.12869137, 11716.25974764,  7818.78091577,\n",
       "       30293.28559141, 14252.41891657, 28326.74760317, 30181.03520442,\n",
       "       17505.27522543,  4318.98888319, 12571.41376128,  5437.76917742,\n",
       "       12055.26370959, 11894.099487  , 31956.66074831, 14478.08532913,\n",
       "        3299.96579634, 17430.93140137, 11307.59847802,  7981.40109385,\n",
       "       30369.35787221,  7664.64750524, 15004.43246169, 12033.2325324 ,\n",
       "       12102.30172204, 34157.61464146, 12917.55041857,  6003.49214799,\n",
       "        4444.12785536, 10371.28340625,  3952.09594423,  9329.10828625,\n",
       "        5812.61458101, 14024.78847168,  3652.5092153 , 28790.19503834,\n",
       "       10973.04871567, 30355.89158426,  6194.2686962 ,  9010.31934558,\n",
       "       29866.38346378,  4664.14093515, 27294.33635007,  9878.03472854,\n",
       "        7037.71480335, 12355.18930688, 11986.36395412,  5209.37006453,\n",
       "       12024.20245614, 10240.99953266, 11450.5599788 ,  3062.52993404,\n",
       "        5750.68083552,  9310.89067984, 10883.04374939,  9721.16379385,\n",
       "       31757.97172099, 10194.95775132, 11437.1253094 , 27538.39149703,\n",
       "       15087.07924452, 26437.49370968, 32038.35780318, 13627.05858356,\n",
       "        5340.75955498, 14420.01181308,  2173.83737945, 10555.15171892,\n",
       "       15777.27530202, 14753.75787455, 39331.53988065, 26762.32595277,\n",
       "        5806.41672903, 25940.64398418,  9451.33365363,  6221.56614084,\n",
       "        3819.14075806, 32861.87953375, 15092.19932936,  1866.41578309,\n",
       "       33350.32492721, 25642.91324117, 30094.18318734, 15160.84041318,\n",
       "        4467.03574697, 25589.57651347, 28749.28838197, 13214.29655626,\n",
       "        7330.77851274, 15177.76297581,  -369.9025834 ,  9714.47134013,\n",
       "        3007.39668869,  9406.0340299 ,  6692.47811206,  7340.17204826,\n",
       "       36790.25685806, 22758.73150432,  9572.65720569, 11412.14875336,\n",
       "        4432.10263829,  7485.41319816,  3512.72375977,  9161.01242104,\n",
       "       40241.91193448, 37347.03148738,  9088.98296794, 35925.76402352,\n",
       "        1502.02990084, 30861.48569397, 11025.03568498,  5464.42088509,\n",
       "       25708.65219047, 36693.82357236, 11562.2160846 ,  7112.52671876,\n",
       "       11270.66320081,  8504.42791804,  4217.82222347,  1243.88767435,\n",
       "       11609.02637842, 16071.7949669 ,  9155.25155186,  8725.18810807,\n",
       "        9481.66763409, 39116.47917204,  9124.45222888,  1755.87558061,\n",
       "       14188.47648492, 11458.03103249, 10303.60878433, 33677.76901461,\n",
       "       36743.83673286,  8958.71072014,  3802.91695319, 34453.38595029,\n",
       "        5688.10972003,  7973.38398264, 13888.72032181,  7255.71578266,\n",
       "        7671.36321053,  1478.20546481,  3061.08560434, 35558.8893835 ,\n",
       "        5848.10367919,  7802.86895886,  2572.51884486, 16276.32314061,\n",
       "        9935.61875099,  6027.47439241,  5142.91220919,  6077.19007957,\n",
       "        4698.82648797, 11270.77945869, 14549.88721911, 24453.58780905,\n",
       "        5506.16596418, 10778.9135674 , 29823.32845629,  7722.74101404,\n",
       "        1215.62376781, 33484.44251985,  8223.82589851,  5776.76492791,\n",
       "       23102.84733966, 14280.73258508, 10527.41729148, 11638.26000568])"
      ]
     },
     "execution_count": 15,
     "metadata": {},
     "output_type": "execute_result"
    }
   ],
   "source": [
    "pred = model.predict(X_test)\n",
    "pred"
   ]
  },
  {
   "cell_type": "code",
   "execution_count": 16,
   "id": "4976bb2f",
   "metadata": {},
   "outputs": [
    {
     "data": {
      "text/html": [
       "<div>\n",
       "<style scoped>\n",
       "    .dataframe tbody tr th:only-of-type {\n",
       "        vertical-align: middle;\n",
       "    }\n",
       "\n",
       "    .dataframe tbody tr th {\n",
       "        vertical-align: top;\n",
       "    }\n",
       "\n",
       "    .dataframe thead th {\n",
       "        text-align: right;\n",
       "    }\n",
       "</style>\n",
       "<table border=\"1\" class=\"dataframe\">\n",
       "  <thead>\n",
       "    <tr style=\"text-align: right;\">\n",
       "      <th></th>\n",
       "      <th>actual</th>\n",
       "      <th>pred</th>\n",
       "    </tr>\n",
       "  </thead>\n",
       "  <tbody>\n",
       "    <tr>\n",
       "      <th>12</th>\n",
       "      <td>1826.84300</td>\n",
       "      <td>4765.249466</td>\n",
       "    </tr>\n",
       "    <tr>\n",
       "      <th>306</th>\n",
       "      <td>20177.67113</td>\n",
       "      <td>4957.730865</td>\n",
       "    </tr>\n",
       "    <tr>\n",
       "      <th>318</th>\n",
       "      <td>7421.19455</td>\n",
       "      <td>8298.988153</td>\n",
       "    </tr>\n",
       "    <tr>\n",
       "      <th>815</th>\n",
       "      <td>1877.92940</td>\n",
       "      <td>3078.811868</td>\n",
       "    </tr>\n",
       "    <tr>\n",
       "      <th>157</th>\n",
       "      <td>15518.18025</td>\n",
       "      <td>24165.956542</td>\n",
       "    </tr>\n",
       "    <tr>\n",
       "      <th>...</th>\n",
       "      <td>...</td>\n",
       "      <td>...</td>\n",
       "    </tr>\n",
       "    <tr>\n",
       "      <th>713</th>\n",
       "      <td>1984.45330</td>\n",
       "      <td>5776.764928</td>\n",
       "    </tr>\n",
       "    <tr>\n",
       "      <th>1282</th>\n",
       "      <td>14283.45940</td>\n",
       "      <td>23102.847340</td>\n",
       "    </tr>\n",
       "    <tr>\n",
       "      <th>531</th>\n",
       "      <td>14043.47670</td>\n",
       "      <td>14280.732585</td>\n",
       "    </tr>\n",
       "    <tr>\n",
       "      <th>537</th>\n",
       "      <td>8825.08600</td>\n",
       "      <td>10527.417291</td>\n",
       "    </tr>\n",
       "    <tr>\n",
       "      <th>1015</th>\n",
       "      <td>12124.99240</td>\n",
       "      <td>11638.260006</td>\n",
       "    </tr>\n",
       "  </tbody>\n",
       "</table>\n",
       "<p>268 rows × 2 columns</p>\n",
       "</div>"
      ],
      "text/plain": [
       "           actual          pred\n",
       "12     1826.84300   4765.249466\n",
       "306   20177.67113   4957.730865\n",
       "318    7421.19455   8298.988153\n",
       "815    1877.92940   3078.811868\n",
       "157   15518.18025  24165.956542\n",
       "...           ...           ...\n",
       "713    1984.45330   5776.764928\n",
       "1282  14283.45940  23102.847340\n",
       "531   14043.47670  14280.732585\n",
       "537    8825.08600  10527.417291\n",
       "1015  12124.99240  11638.260006\n",
       "\n",
       "[268 rows x 2 columns]"
      ]
     },
     "execution_count": 16,
     "metadata": {},
     "output_type": "execute_result"
    }
   ],
   "source": [
    "# 예측 모델 평가하기 \n",
    "# 1. 테이블로 평가하기  실제 데이터 y_test와 예측한 데이터 pred로 비교함\n",
    "comparison = pd.DataFrame({'actual': y_test, 'pred': pred})\n",
    "comparison"
   ]
  },
  {
   "cell_type": "code",
   "execution_count": 17,
   "id": "b98559a8",
   "metadata": {},
   "outputs": [
    {
     "data": {
      "text/plain": [
       "<Axes: xlabel='actual', ylabel='pred'>"
      ]
     },
     "execution_count": 17,
     "metadata": {},
     "output_type": "execute_result"
    },
    {
     "data": {
      "image/png": "[encoded data removed]",
      "text/plain": [
       "<Figure size 1000x1000 with 1 Axes>"
      ]
     },
     "metadata": {},
     "output_type": "display_data"
    }
   ],
   "source": [
    "# 2. 그래프로 평가하기 \n",
    "import matplotlib.pyplot as plt; \n",
    "import seaborn as sns; \n",
    "\n",
    "plt.figure(figsize=(10, 10))\n",
    "sns.scatterplot(x = 'actual', y='pred', data = comparison)"
   ]
  },
  {
   "cell_type": "markdown",
   "id": "0e0a88e0",
   "metadata": {},
   "source": [
    "3. RMSE(Root mean square error : 루트 평균 제곱근 오차, 평균 제곱근 편차)\n",
    "\n",
    "실제값과 예측값 사이의 오차를 각각 합산하는 개념 \n",
    "\n",
    "MAE: 평균 절대오차, |actual - pred| 대한 평균을 계산, 값이 작을 수록 좋은 지표 \n",
    "\n",
    "MSE: 평균 제곱오차, (actual - pred)^ 2 대한 평균을 계산, 값이 작을수록 좋은 지표 \n",
    "\n",
    "RMSE : 루트 평균 제곱오차: (actual - pred) ^2 ** 2 에 대한 평균을 계산, 값이 작을수록 좋은 지표\n"
   ]
  },
  {
   "cell_type": "code",
   "execution_count": 18,
   "id": "4b42659b",
   "metadata": {},
   "outputs": [
    {
     "data": {
      "text/plain": [
       "5684.927776334484"
      ]
     },
     "execution_count": 18,
     "metadata": {},
     "output_type": "execute_result"
    }
   ],
   "source": [
    "from sklearn.metrics import mean_squared_error \n",
    "mean_squared_error(y_test, pred) ** 0.5 # **0.5 는 루트"
   ]
  },
  {
   "cell_type": "code",
   "execution_count": 19,
   "id": "e1867dd0-5866-49b3-b5e0-f4cf6fe694d8",
   "metadata": {},
   "outputs": [
    {
     "data": {
      "text/plain": [
       "3909.118501551299"
      ]
     },
     "execution_count": 19,
     "metadata": {},
     "output_type": "execute_result"
    }
   ],
   "source": [
    "from sklearn.metrics import mean_absolute_error\n",
    "mean_absolute_error(y_test, pred)"
   ]
  },
  {
   "cell_type": "code",
   "execution_count": 20,
   "id": "04bd7ad2",
   "metadata": {},
   "outputs": [
    {
     "data": {
      "text/plain": [
       "5684.927776334484"
      ]
     },
     "execution_count": 20,
     "metadata": {},
     "output_type": "execute_result"
    }
   ],
   "source": [
    "mean_squared_error(y_test, pred, squared=False) # sqaured=False: RMSE 값을 구함"
   ]
  },
  {
   "cell_type": "code",
   "execution_count": 21,
   "id": "0bb803a4",
   "metadata": {},
   "outputs": [],
   "source": [
    "# 평가기준은 상대적이므로 숫자로 예측이 좋은지 판단할 수 없다. 여러 모델을 사용해보고 가장 예측력이 뛰어난 모델을 사용함 "
   ]
  },
  {
   "cell_type": "code",
   "execution_count": 22,
   "id": "2fef7cbd",
   "metadata": {},
   "outputs": [],
   "source": [
    "#4. R^2 으로 평가하기 \n",
    "#R^2 = SSR / SST "
   ]
  },
  {
   "cell_type": "code",
   "execution_count": 23,
   "id": "4706659b",
   "metadata": {},
   "outputs": [
    {
     "data": {
      "text/plain": [
       "0.7368220127747351"
      ]
     },
     "execution_count": 23,
     "metadata": {},
     "output_type": "execute_result"
    }
   ],
   "source": [
    "model.score(X_train, y_train) # R^2계산"
   ]
  },
  {
   "cell_type": "code",
   "execution_count": 24,
   "id": "a745e607",
   "metadata": {},
   "outputs": [],
   "source": [
    "# 최대 1까지 나올 수 있고, 좋은 모델일 수록 1에 가깝고 0.7-0.8이상이면 일반적으로 괜찮은 수치 \n",
    "# charges = A * age + B * sex + c * bmi + d * children + e * smoker + i(x절편)"
   ]
  },
  {
   "cell_type": "code",
   "execution_count": 25,
   "id": "6631c9cb",
   "metadata": {},
   "outputs": [
    {
     "data": {
      "text/plain": [
       "array([2.64799803e+02, 1.73446608e+01, 2.97514806e+02, 4.69339602e+02,\n",
       "       2.34692802e+04])"
      ]
     },
     "execution_count": 25,
     "metadata": {},
     "output_type": "execute_result"
    }
   ],
   "source": [
    "model.coef_ # 각 변수의 기울기"
   ]
  },
  {
   "cell_type": "code",
   "execution_count": 26,
   "id": "c0ee66e9",
   "metadata": {},
   "outputs": [
    {
     "data": {
      "text/plain": [
       "age           264.799803\n",
       "sex            17.344661\n",
       "bmi           297.514806\n",
       "children      469.339602\n",
       "smoker      23469.280173\n",
       "dtype: float64"
      ]
     },
     "execution_count": 26,
     "metadata": {},
     "output_type": "execute_result"
    }
   ],
   "source": [
    "pd.Series(model.coef_, index = X.columns)"
   ]
  },
  {
   "cell_type": "code",
   "execution_count": 27,
   "id": "d5de8cee",
   "metadata": {},
   "outputs": [],
   "source": [
    "# age가 1만큼 증가하면 chargessms 265akszma wmdrkgksek\n",
    "# 남자(1)이 여자(0) 보다 17정도 더 높다"
   ]
  },
  {
   "cell_type": "code",
   "execution_count": 28,
   "id": "bc52f5e2",
   "metadata": {},
   "outputs": [
    {
     "data": {
      "text/plain": [
       "-11576.99997611236"
      ]
     },
     "execution_count": 28,
     "metadata": {},
     "output_type": "execute_result"
    }
   ],
   "source": [
    "model.intercept_ #y절편"
   ]
  },
  {
   "cell_type": "code",
   "execution_count": 29,
   "id": "2cb7aaae",
   "metadata": {},
   "outputs": [
    {
     "ename": "NameError",
     "evalue": "name 'x1' is not defined",
     "output_type": "error",
     "traceback": [
      "\u001b[0;31m---------------------------------------------------------------------------\u001b[0m",
      "\u001b[0;31mNameError\u001b[0m                                 Traceback (most recent call last)",
      "Cell \u001b[0;32mIn[29], line 16\u001b[0m\n\u001b[1;32m     13\u001b[0m ax \u001b[38;5;241m=\u001b[39m fig\u001b[38;5;241m.\u001b[39madd_subplot(\u001b[38;5;241m111\u001b[39m, projection\u001b[38;5;241m=\u001b[39m\u001b[38;5;124m'\u001b[39m\u001b[38;5;124m3d\u001b[39m\u001b[38;5;124m'\u001b[39m)\n\u001b[1;32m     15\u001b[0m \u001b[38;5;66;03m# Plot the data points\u001b[39;00m\n\u001b[0;32m---> 16\u001b[0m ax\u001b[38;5;241m.\u001b[39mscatter(\u001b[43mx1\u001b[49m, x2, y, color\u001b[38;5;241m=\u001b[39m\u001b[38;5;124m'\u001b[39m\u001b[38;5;124mblue\u001b[39m\u001b[38;5;124m'\u001b[39m, label\u001b[38;5;241m=\u001b[39m\u001b[38;5;124m'\u001b[39m\u001b[38;5;124mData Points\u001b[39m\u001b[38;5;124m'\u001b[39m)\n\u001b[1;32m     18\u001b[0m ax\u001b[38;5;241m.\u001b[39mset_xlabel(\u001b[38;5;124m'\u001b[39m\u001b[38;5;124mX1\u001b[39m\u001b[38;5;124m'\u001b[39m)\n\u001b[1;32m     19\u001b[0m ax\u001b[38;5;241m.\u001b[39mset_ylabel(\u001b[38;5;124m'\u001b[39m\u001b[38;5;124mX2\u001b[39m\u001b[38;5;124m'\u001b[39m)\n",
      "\u001b[0;31mNameError\u001b[0m: name 'x1' is not defined"
     ]
    },
    {
     "data": {
      "image/png": "[encoded data removed]",
      "text/plain": [
       "<Figure size 640x480 with 1 Axes>"
      ]
     },
     "metadata": {},
     "output_type": "display_data"
    }
   ],
   "source": [
    "import numpy as np\n",
    "import matplotlib.pyplot as plt\n",
    "\n",
    "# Generating some data for demonstration\n",
    "x = np.linspace(0, 10, 100)\n",
    "y = 0\n",
    "for i in model.coef_ :\n",
    "    y += i * np.random.rand(100)\n",
    "y += model.intercept_\n",
    "\n",
    "# Create a 3D plot\n",
    "fig = plt.figure()\n",
    "ax = fig.add_subplot(111, projection='3d')\n",
    "\n",
    "# Plot the data points\n",
    "ax.scatter(x1, x2, y, color='blue', label='Data Points')\n",
    "\n",
    "ax.set_xlabel('X1')\n",
    "ax.set_ylabel('X2')\n",
    "ax.set_zlabel('Y')\n",
    "\n",
    "plt.title('Multiple Linear Regression')\n",
    "plt.legend()\n",
    "plt.show()"
   ]
  },
  {
   "cell_type": "code",
   "execution_count": null,
   "id": "f3889cc6-7d31-4f6d-8f08-954c8304a30d",
   "metadata": {},
   "outputs": [],
   "source": []
  }
 ],
 "metadata": {
  "kernelspec": {
   "display_name": "Python 3 (ipykernel)",
   "language": "python",
   "name": "python3"
  },
  "language_info": {
   "codemirror_mode": {
    "name": "ipython",
    "version": 3
   },
   "file_extension": ".py",
   "mimetype": "text/x-python",
   "name": "python",
   "nbconvert_exporter": "python",
   "pygments_lexer": "ipython3",
   "version": "3.10.9"
  }
 },
 "nbformat": 4,
 "nbformat_minor": 5
}
